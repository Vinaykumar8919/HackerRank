{
 "cells": [
  {
   "cell_type": "code",
   "execution_count": 13,
   "id": "4ff94c8b",
   "metadata": {},
   "outputs": [
    {
     "name": "stdout",
     "output_type": "stream",
     "text": [
      "abccddde\n",
      "6\n",
      "1\n",
      "3\n",
      "12\n",
      "5\n",
      "9\n",
      "10\n",
      "[1, 2, 3, 6, 4, 8, 12, 5]\n",
      "['Yes', 'Yes', 'Yes', 'Yes', 'No', 'No']\n",
      "None\n"
     ]
    }
   ],
   "source": [
    "#!/bin/python3\n",
    "\n",
    "import math\n",
    "import os\n",
    "import random\n",
    "import re\n",
    "import sys\n",
    "\n",
    "#\n",
    "# Complete the 'weightedUniformStrings' function below.\n",
    "#\n",
    "# The function is expected to return a STRING_ARRAY.\n",
    "# The function accepts following parameters:\n",
    "#  1. STRING s\n",
    "#  2. INTEGER_ARRAY queries\n",
    "#\n",
    "\n",
    "def weightedUniformStrings(s, queries):\n",
    "    x=96\n",
    "    ele = 0\n",
    "    list1 = [ord(s[0])-x]\n",
    "    for i in range(1,len(s)):\n",
    "        if s[i]==s[i-1]:\n",
    "            ele =list1[i-1]+int(ord(s[i])-x)\n",
    "            list1.append(ele)\n",
    "            pass\n",
    "        else:\n",
    "            list1.append(ord(s[i])-x)\n",
    "            ele = 0\n",
    "    print(list1)\n",
    "    list2=[]\n",
    "    for q in queries:\n",
    "        if q in list1:\n",
    "            list2.append(\"Yes\")\n",
    "        else:\n",
    "            list2.append(\"No\") \n",
    "    print(list2)\n",
    "if __name__ == '__main__':\n",
    "\n",
    "    s = input()\n",
    "\n",
    "    queries_count = int(input().strip())\n",
    "\n",
    "    queries = []\n",
    "\n",
    "    for _ in range(queries_count):\n",
    "        queries_item = int(input().strip())\n",
    "        queries.append(queries_item)\n",
    "\n",
    "    result = weightedUniformStrings(s, queries)\n",
    "    print(result)\n",
    "\n"
   ]
  },
  {
   "cell_type": "code",
   "execution_count": 4,
   "id": "d3d8a299",
   "metadata": {},
   "outputs": [
    {
     "name": "stdout",
     "output_type": "stream",
     "text": [
      "<class 'int'>\n"
     ]
    }
   ],
   "source": [
    "print(type(ord(\"a\")))"
   ]
  },
  {
   "cell_type": "code",
   "execution_count": null,
   "id": "37012789",
   "metadata": {},
   "outputs": [],
   "source": []
  },
  {
   "cell_type": "code",
   "execution_count": null,
   "id": "09fde1ae",
   "metadata": {},
   "outputs": [],
   "source": []
  },
  {
   "cell_type": "code",
   "execution_count": null,
   "id": "3acdc871",
   "metadata": {},
   "outputs": [],
   "source": []
  }
 ],
 "metadata": {
  "kernelspec": {
   "display_name": "Python 3",
   "language": "python",
   "name": "python3"
  },
  "language_info": {
   "codemirror_mode": {
    "name": "ipython",
    "version": 3
   },
   "file_extension": ".py",
   "mimetype": "text/x-python",
   "name": "python",
   "nbconvert_exporter": "python",
   "pygments_lexer": "ipython3",
   "version": "3.11.1 (tags/v3.11.1:a7a450f, Dec  6 2022, 19:58:39) [MSC v.1934 64 bit (AMD64)]"
  },
  "vscode": {
   "interpreter": {
    "hash": "c261aea317cc0286b3b3261fbba9abdec21eaa57589985bb7a274bf54d6cc0a7"
   }
  }
 },
 "nbformat": 4,
 "nbformat_minor": 5
}
